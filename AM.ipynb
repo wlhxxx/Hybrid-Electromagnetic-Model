{
 "cells": [
  {
   "cell_type": "code",
   "execution_count": 3,
   "metadata": {},
   "outputs": [
    {
     "name": "stdout",
     "output_type": "stream",
     "text": [
      "输出1的指标:\n",
      "  RMSE: 23.4002\n",
      "  MedAE: 15.0842\n",
      "  MAE: 18.5791\n",
      "  R²: -1.1245\n",
      "  MAPE: 21.3561\n",
      "输出2的指标:\n",
      "  RMSE: 12.3776\n",
      "  MedAE: 7.9088\n",
      "  MAE: 9.6638\n",
      "  R²: 0.5049\n",
      "  MAPE: 23.7629\n",
      "输出3的指标:\n",
      "  RMSE: 0.5011\n",
      "  MedAE: 0.3838\n",
      "  MAE: 0.4155\n",
      "  R²: 0.9547\n",
      "  MAPE: 2.0273\n",
      "\n",
      "模型平均指标:\n",
      "RMSE: 12.0929\n",
      "MedAE: 7.7923\n",
      "MAE: 9.5528\n",
      "R²: 0.1117\n",
      "MAPE: 15.7154\n"
     ]
    }
   ],
   "source": [
    "import numpy as np\n",
    "import pandas as pd\n",
    "from sklearn.metrics import mean_squared_error, median_absolute_error, mean_absolute_error, r2_score\n",
    "import matplotlib.pyplot as plt\n",
    "\n",
    "# 定义 MAPE 计算函数\n",
    "def mape_scorer(y_true, y_pred):\n",
    "    return np.mean(np.abs((y_true - y_pred) / y_true)) * 100\n",
    "\n",
    "# 定义单列的评估指标计算函数\n",
    "def compute_metrics(y_true, y_pred):\n",
    "    rmse = np.sqrt(mean_squared_error(y_true, y_pred))\n",
    "    medae = median_absolute_error(y_true, y_pred)\n",
    "    mae = mean_absolute_error(y_true, y_pred)\n",
    "    r2 = r2_score(y_true, y_pred)\n",
    "    mape = mape_scorer(y_true, y_pred)\n",
    "    return rmse, medae, mae, r2, mape\n",
    "\n",
    "# 读取 CSV 文件\n",
    "data = pd.read_csv(\"avgF1.csv\", header=None)\n",
    "y_true = data.iloc[:, :3].values\n",
    "y_pred = data.iloc[:, 3:6].values\n",
    "\n",
    "# 定义颜色列表\n",
    "colors = ['blue', 'green', 'red']\n",
    "\n",
    "# 初始化累加器\n",
    "metrics_sum = np.zeros(5)\n",
    "metric_names = [\"RMSE\", \"MedAE\", \"MAE\", \"R²\", \"MAPE\"]\n",
    "\n",
    "# 逐列计算指标\n",
    "for i in range(y_true.shape[1]):\n",
    "    metrics = compute_metrics(y_true[:, i], y_pred[:, i])\n",
    "    metrics_sum += np.array(metrics)  # 累加指标\n",
    "    print(f\"输出{i+1}的指标:\")\n",
    "    for name, value in zip(metric_names, metrics):\n",
    "        print(f\"  {name}: {value:.4f}\")\n",
    "    \n",
    "\n",
    "# 计算平均值\n",
    "metrics_mean = metrics_sum / y_true.shape[1]\n",
    "\n",
    "# 打印平均指标\n",
    "print(\"\\n模型平均指标:\")\n",
    "for name, value in zip(metric_names, metrics_mean):\n",
    "    print(f\"{name}: {value:.4f}\")\n"
   ]
  }
 ],
 "metadata": {
  "kernelspec": {
   "display_name": "XG",
   "language": "python",
   "name": "python3"
  },
  "language_info": {
   "codemirror_mode": {
    "name": "ipython",
    "version": 3
   },
   "file_extension": ".py",
   "mimetype": "text/x-python",
   "name": "python",
   "nbconvert_exporter": "python",
   "pygments_lexer": "ipython3",
   "version": "3.8.20"
  }
 },
 "nbformat": 4,
 "nbformat_minor": 2
}
